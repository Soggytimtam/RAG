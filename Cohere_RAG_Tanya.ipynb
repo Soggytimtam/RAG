{
 "cells": [
  {
   "cell_type": "markdown",
   "id": "8f79beb3",
   "metadata": {},
   "source": [
    "Author: Arun Prasad Built on Sunday 10 November 2024 at Build Club (Sydney, Australia)\n",
    "\n",
    "License: MIT License Copyright 2024 AI WHISPR PTY. LTD.\n",
    "\n",
    "Permission is hereby granted, free of charge, to any person obtaining a copy of this software and associated documentation files (the “Software”), to deal in the Software without restriction, including without limitation the rights to use, copy, modify, merge, publish, distribute, sublicense, and/or sell copies of the Software, and to permit persons to whom the Software is furnished to do so, subject to the following conditions:\n",
    "\n",
    "The above copyright notice and this permission notice shall be included in all copies or substantial portions of the Software.\n",
    "\n",
    "THE SOFTWARE IS PROVIDED “AS IS”, WITHOUT WARRANTY OF ANY KIND, EXPRESS OR IMPLIED, INCLUDING BUT NOT LIMITED TO THE WARRANTIES OF MERCHANTABILITY, FITNESS FOR A PARTICULAR PURPOSE AND NONINFRINGEMENT. IN NO EVENT SHALL THE AUTHORS OR COPYRIGHT HOLDERS BE LIABLE FOR ANY CLAIM, DAMAGES OR OTHER LIABILITY, WHETHER IN AN ACTION OF CONTRACT, TORT OR OTHERWISE, ARISING FROM, OUT OF OR IN CONNECTION WITH THE SOFTWARE OR THE USE OR OTHER DEALINGS IN THE SOFTWARE."
   ]
  },
  {
   "cell_type": "markdown",
   "id": "7aff7afc-8c08-4736-8a26-29c22f70336c",
   "metadata": {},
   "source": [
    "Cohere for Wikipedia RAG Project\n",
    "\n",
    "I've set up a Jupyter Notebook to run and test code for a Retrieval-Augmented Generation (RAG) system on a wikapedia article. Working through the Rag workflow step-by-step has provided a robust understanding and foundation for building, testing, and refining a RAG system.\n",
    "\n",
    "\n",
    "Key actions\n",
    "1. Creation of a dedicated environment for my project\n",
    "2. Installed and configured necessary libraries.\n",
    "3. Fetched data from Wikipedia.\n",
    "4. Divided the text into manageable chunks, and generated embeddings for semantic search.\n",
    "5. Crafted an augmented prompt using retrieved text chunks and sent it to a language model to generate a detailed response.\n",
    "\n",
    "By running the below RAG workflow, I am building a vector database and populating it with many different respositories."
   ]
  },
  {
   "cell_type": "markdown",
   "id": "855ad77f-1935-4aa3-bbd0-31d64db0aa83",
   "metadata": {},
   "source": [
    "1.Started by importing the Cohere library to connect to the Cohere's API for generating embeddings. \n",
    "2.Imported the library \n",
    "3.Set up the API key. \n"
   ]
  },
  {
   "cell_type": "code",
   "execution_count": 1,
   "id": "cd0c5c41",
   "metadata": {
    "scrolled": true
   },
   "outputs": [],
   "source": [
    "%pip install \"cohere<5\" --quiet"
   ]
  },
  {
   "cell_type": "markdown",
   "id": "07a0e0eb",
   "metadata": {},
   "source": [
    "# Import the Cohere python library. Setup API Key."
   ]
  },
  {
   "cell_type": "code",
   "execution_count": 2,
   "id": "f4956add",
   "metadata": {},
   "outputs": [],
   "source": [
    "import cohere"
   ]
  },
  {
   "cell_type": "code",
   "execution_count": 3,
   "id": "7ce418ec",
   "metadata": {},
   "outputs": [],
   "source": [
    "API_KEY = \"PMzMFQymUIHrGJXqMRh85P3NkSNypYMXwfnG39ls\"\n",
    "co = cohere.Client(API_KEY)"
   ]
  },
  {
   "cell_type": "markdown",
   "id": "4a60c3c7",
   "metadata": {},
   "source": [
    "# Install the Wikpedia Library, Import the library, Read the Wikpedia Page"
   ]
  },
  {
   "cell_type": "code",
   "execution_count": 4,
   "id": "2d5e758e",
   "metadata": {},
   "outputs": [],
   "source": [
    "!pip install wikipedia --quiet"
   ]
  },
  {
   "cell_type": "code",
   "execution_count": 5,
   "id": "2f02ef06",
   "metadata": {},
   "outputs": [],
   "source": [
    "import wikipedia"
   ]
  },
  {
   "cell_type": "code",
   "execution_count": 6,
   "id": "88ca2eaa",
   "metadata": {
    "scrolled": true
   },
   "outputs": [
    {
     "name": "stdout",
     "output_type": "stream",
     "text": [
      "The text has roughly 3033 words.\n"
     ]
    }
   ],
   "source": [
    "article = wikipedia.page('Wild Robot')\n",
    "text = article.content\n",
    "print(f\"The text has roughly {len(text.split())} words.\")"
   ]
  },
  {
   "cell_type": "markdown",
   "id": "f2a2c9d4",
   "metadata": {},
   "source": [
    "# Create Text Chunks."
   ]
  },
  {
   "cell_type": "code",
   "execution_count": 7,
   "id": "e8087d44",
   "metadata": {},
   "outputs": [
    {
     "name": "stdout",
     "output_type": "stream",
     "text": [
      "Note: you may need to restart the kernel to use updated packages.\n"
     ]
    }
   ],
   "source": [
    "%pip install -qU langchain-text-splitters --quiet"
   ]
  },
  {
   "cell_type": "code",
   "execution_count": 8,
   "id": "ecffa584",
   "metadata": {},
   "outputs": [],
   "source": [
    "from langchain_text_splitters import RecursiveCharacterTextSplitter"
   ]
  },
  {
   "cell_type": "code",
   "execution_count": 9,
   "id": "3e759627",
   "metadata": {},
   "outputs": [
    {
     "name": "stdout",
     "output_type": "stream",
     "text": [
      "The text has been broken down in 62 chunks.\n"
     ]
    }
   ],
   "source": [
    "text_splitter = RecursiveCharacterTextSplitter(\n",
    "    chunk_size=512,\n",
    "    chunk_overlap=50,\n",
    "    length_function=len,\n",
    "    is_separator_regex=False,\n",
    ")\n",
    "\n",
    "chunks_ = text_splitter.create_documents([text])\n",
    "chunks = [c.page_content for c in chunks_]\n",
    "print(f\"The text has been broken down in {len(chunks)} chunks.\")"
   ]
  },
  {
   "cell_type": "markdown",
   "id": "d4dcb508",
   "metadata": {},
   "source": [
    "# Create Embeddings for the text chunks"
   ]
  },
  {
   "cell_type": "code",
   "execution_count": 10,
   "id": "f198b515",
   "metadata": {},
   "outputs": [
    {
     "name": "stdout",
     "output_type": "stream",
     "text": [
      "We just computed 62 embeddings.\n"
     ]
    }
   ],
   "source": [
    "model=\"embed-english-v3.0\"\n",
    "response = co.embed(\n",
    "    texts= chunks,\n",
    "    model=model,\n",
    "    input_type=\"search_document\",\n",
    "    embedding_types=['float']\n",
    ")\n",
    "embeddings = response.embeddings.float\n",
    "print(f\"We just computed {len(embeddings)} embeddings.\")\n"
   ]
  },
  {
   "cell_type": "markdown",
   "id": "20426f2b",
   "metadata": {},
   "source": [
    "# Install numpy; use it to store embeddings."
   ]
  },
  {
   "cell_type": "code",
   "execution_count": 13,
   "id": "623999f9",
   "metadata": {},
   "outputs": [],
   "source": [
    "!pip install numpy --quiet"
   ]
  },
  {
   "cell_type": "code",
   "execution_count": 14,
   "id": "072ea3de",
   "metadata": {},
   "outputs": [],
   "source": [
    "import numpy as np\n",
    "vector_database = {i: np.array(embedding) for i, embedding in enumerate(embeddings)}"
   ]
  },
  {
   "cell_type": "markdown",
   "id": "bf84ca1a",
   "metadata": {},
   "source": [
    "# Create embeeding for the query; semantic search using cosine similarity to retrieve relevant text."
   ]
  },
  {
   "cell_type": "markdown",
   "id": "5865335a-a414-459c-86f8-2cbcf77a60d7",
   "metadata": {},
   "source": [
    "1.Define a sample query to test our RAG model’s retrieval capabilities. Run this code in a new cell in your notebook"
   ]
  },
  {
   "cell_type": "code",
   "execution_count": 22,
   "id": "9f54bfc3-1900-4167-ba65-9f4831438be4",
   "metadata": {},
   "outputs": [],
   "source": [
    "query = \"who is the director of the moive The Wild Robot? list out the names of all actors in the moive and their roles\""
   ]
  },
  {
   "cell_type": "markdown",
   "id": "d6e00c06-752f-48e7-96cd-aa5bb057706a",
   "metadata": {},
   "source": [
    "Embedding the Query\n",
    "\n",
    "2.To compare the query with our text chunks, create an embedding for the query. Enter the following code in a new cell.\n",
    "\n",
    "This code generates an embedding for the query, stored in query_embedding. This allows us to compare the query to each chunk based on meaning."
   ]
  },
  {
   "cell_type": "code",
   "execution_count": 23,
   "id": "ddc4d39e",
   "metadata": {},
   "outputs": [
    {
     "name": "stdout",
     "output_type": "stream",
     "text": [
      "query_embedding:  [-0.0496521, -0.038269043, -0.0317688, 4.7326088e-05, -0.022232056, -0.0102005005, 0.020309448, 0.047851562, -0.044433594, 0.035308838, 0.0004208088, 0.03048706, -0.034332275, 5.4240227e-05, 0.015312195, -0.029891968, -0.007320404, 0.085510254, 0.07183838, 0.012046814, 0.02671814, 0.022598267, -0.016479492, -0.035125732, 0.0044670105, -0.0029411316, -0.018966675, -0.022613525, -0.012138367, 0.0072517395, 0.0035533905, 0.029052734, 0.00642395, 0.0129852295, -0.010025024, -0.016571045, -0.008041382, 0.00096797943, 0.02357483, -0.03567505, 0.043273926, -0.026550293, -0.013977051, -0.0065612793, -0.027420044, 0.032165527, 0.0058288574, 0.010322571, 0.04736328, 0.030517578, -0.026306152, -0.023712158, -0.022033691, -0.01423645, -0.04095459, -0.040893555, -0.015213013, -0.07788086, 0.0021572113, 0.04232788, 0.029251099, -0.00843811, 0.026382446, -0.026763916, 0.005252838, -0.007671356, 0.013198853, 0.019134521, 0.026138306, -0.010757446, -0.012420654, 0.024993896, 0.011787415, -0.03048706, 0.018249512, 0.010520935, -0.05053711, -0.041656494, 0.035858154, 0.019836426, -0.036376953, -0.010360718, -0.06011963, -0.024932861, 0.0079422, 0.013221741, -0.01386261, 0.00036478043, -0.018951416, -0.02784729, -0.019165039, 0.005264282, -0.037353516, 0.007030487, -0.029510498, -0.002090454, 0.017654419, 0.03186035, 0.03289795, 0.02355957, 0.024124146, -0.0413208, 0.03665161, -0.04360962, -0.025909424, -0.010643005, 0.043395996, -0.009796143, 0.006679535, 0.023376465, -0.03878784, 0.04498291, 0.002954483, 0.027999878, -0.04534912, -0.004634857, -0.025726318, -0.00033688545, -0.027114868, 0.031433105, 0.0096206665, 0.0070648193, 0.009361267, -0.01979065, 0.004333496, -0.01146698, -0.05154419, 0.01071167, 0.0034427643, -0.0014314651, -0.013671875, 0.023712158, 0.0059509277, 0.021865845, 0.0029296875, -0.011482239, -0.001964569, 0.0010910034, 0.0027122498, -0.010299683, -0.011894226, 0.0065193176, 0.057281494, -0.005973816, -0.017456055, -0.053955078, 0.01902771, 0.05557251, 0.0022392273, 0.03555298, -0.03753662, 0.08728027, -0.031402588, 0.031585693, 0.10662842, 0.0015068054, 0.07501221, -0.013595581, 0.037963867, 0.014839172, 0.009246826, 0.049835205, 0.08441162, 0.043823242, 0.049804688, -0.051879883, -0.0619812, 0.0013055801, 0.0048332214, -0.005870819, -0.036987305, 0.07110596, 0.0013980865, -0.008148193, 0.0035705566, -0.0038280487, -0.018539429, 0.005592346, -0.011856079, 0.008506775, -0.017242432, -0.05307007, -0.013153076, 0.01512146, 0.0060424805, -0.05822754, 0.026641846, 0.0063095093, 0.029815674, 0.03955078, 0.021942139, -0.037475586, 0.026855469, 0.018508911, 0.0011291504, -0.0635376, 0.016952515, -0.0014190674, -0.017974854, 0.022354126, -0.029190063, 0.031158447, -0.01737976, -0.015655518, -0.039733887, -0.003932953, -0.008651733, 0.026977539, -0.044891357, -0.024368286, 0.036102295, -0.023345947, -0.017547607, 0.03427124, -0.014251709, 0.011772156, -0.050720215, 0.040985107, 0.015022278, -0.019363403, 0.033325195, 0.0036010742, 0.038726807, -0.022583008, 0.03262329, -0.011795044, 0.01701355, -0.0015821457, 0.048950195, 0.01965332, -0.011787415, -0.028549194, -0.036712646, -0.030044556, -0.058807373, 0.0006380081, -0.013420105, 0.030532837, 0.010169983, 0.019378662, 0.023620605, 0.050445557, -0.037628174, -0.031707764, 0.10473633, -0.02003479, -0.0068092346, -0.022537231, -0.040618896, -0.035217285, 0.035308838, 0.009971619, 0.012054443, -0.04724121, 0.018554688, -0.0020160675, -0.03164673, -0.029266357, 0.03274536, 0.006160736, -0.01637268, -0.022399902, 0.014633179, -0.034973145, -0.04724121, -0.0022640228, -0.040039062, -0.015838623, -0.023376465, -0.009933472, 0.040985107, 0.020324707, 0.012435913, 0.005126953, 0.052947998, -0.05859375, 0.0044288635, -0.01335907, 0.018432617, -0.005054474, -0.026535034, -0.029724121, 0.0066070557, -0.01335907, 0.031433105, -0.009407043, 0.020690918, -0.029205322, 0.004524231, -0.0010032654, 0.03878784, -0.010612488, 0.027664185, -0.030548096, -0.024490356, -0.025970459, -0.017990112, 0.045410156, -0.008255005, -0.0027561188, 0.0058174133, 0.018341064, -0.049835205, 0.03213501, -0.012763977, -0.0069465637, 0.007785797, 0.000111699104, -0.016113281, -0.04852295, -0.0050468445, -0.024536133, 0.038208008, 0.09643555, 0.008995056, -0.0060043335, -0.026748657, 0.07574463, 0.010246277, -0.025619507, 0.17382812, -0.019317627, 0.01876831, -0.027267456, -0.038726807, -0.076538086, 0.040161133, -0.027267456, -0.017333984, -0.015617371, 0.005168915, -0.007358551, 0.008277893, 0.043426514, -0.010284424, -0.02571106, 0.01638794, 0.02897644, -0.00045657158, -0.04147339, 0.008644104, 0.045654297, 0.007904053, 0.011711121, -0.01864624, -0.0016975403, 0.0050354004, 0.0107421875, -0.028793335, 0.019744873, -0.01638794, -0.01663208, 0.015510559, 0.004299164, 0.0076522827, 0.050750732, -0.02709961, -0.0079422, 0.035705566, -0.034423828, 0.061340332, 0.00655365, 0.042785645, 0.03994751, -0.048095703, -0.050231934, 0.015151978, 0.028289795, 0.064575195, 0.022781372, 0.014625549, 0.030426025, -0.02947998, 0.011764526, 0.048980713, -0.049835205, 0.064697266, -0.007858276, -0.0024337769, 0.026306152, -0.012306213, -0.022994995, 0.020217896, -0.028747559, 0.080078125, -0.008811951, -0.017059326, 0.008644104, 0.037506104, 0.012809753, -0.026901245, -0.06854248, 0.030822754, -0.01108551, 0.026977539, -0.016616821, -0.015281677, 0.047027588, -0.0552063, -0.0027484894, -0.0032463074, -0.012199402, -0.0362854, 0.020645142, -0.040008545, 0.018569946, 0.036956787, -0.024612427, 0.024383545, 0.04425049, 0.0024662018, -0.01398468, 0.047790527, -0.040649414, 0.009880066, 0.0029449463, -0.03479004, 0.0051879883, -0.004573822, -0.022140503, -0.016159058, 0.013084412, 0.0010128021, 0.012931824, 0.011039734, 0.0060539246, -0.020706177, -0.036956787, -0.03781128, 0.05331421, 0.017868042, 0.008560181, 0.0071372986, 0.01386261, -0.032592773, 0.01423645, -0.02861023, 0.020309448, 0.002243042, -0.047180176, -0.017715454, -0.020935059, 0.0015735626, 0.038238525, 0.008491516, 3.2544136e-05, -0.033355713, -0.051574707, 0.0052871704, -0.007648468, 0.010612488, -0.011604309, 0.041900635, 0.030273438, -0.0008535385, 0.060913086, -0.023895264, 0.005088806, 0.03677368, 0.031433105, 0.04888916, 0.020446777, -0.05783081, -0.008872986, 0.008544922, -0.01776123, 0.024032593, -0.002128601, -0.043518066, 0.054351807, 0.016082764, -0.04449463, -0.00944519, -0.0058135986, 0.029571533, -0.00957489, -0.014160156, -0.0289917, 0.024932861, 0.027557373, 0.018234253, -0.007259369, -0.10107422, 0.037231445, 0.011062622, -0.0138168335, -0.016326904, 0.045440674, -0.02003479, 0.0064430237, -0.0039596558, 0.033111572, 0.029449463, -0.054504395, 0.0045280457, -0.029144287, -0.0030708313, -0.03933716, 0.00223732, 0.005592346, -0.048675537, -0.011207581, 0.05581665, 0.00705719, -0.018722534, -0.008964539, 0.032836914, -0.006011963, 0.030944824, 0.03338623, 0.01928711, 0.020599365, -0.010131836, -0.013465881, -0.025405884, -0.016433716, 0.04736328, 0.029327393, 0.0056495667, -0.02281189, -0.040893555, -0.01449585, 0.034301758, 0.01676941, 0.0154800415, -0.016494751, 0.061676025, 0.053894043, -0.046722412, -0.017074585, 0.026123047, 0.016937256, 0.01626587, 0.0038204193, 0.0025672913, 0.029251099, -0.0031795502, -0.012779236, -0.017822266, -0.0058517456, -0.015808105, 0.013153076, 0.009681702, 0.011993408, -0.009498596, -0.0362854, -0.019134521, -0.024459839, 0.0065689087, -0.06964111, 0.0030727386, 0.02633667, -0.0014400482, -0.021987915, -0.013832092, -0.0234375, -0.01689148, -0.0011873245, 0.00868988, 0.013496399, 0.04385376, -0.030395508, -0.032409668, 0.041137695, 0.020767212, 0.0021247864, -0.011459351, -0.066467285, 0.030303955, -0.029907227, -0.025741577, -0.02255249, 0.015556335, -0.021392822, 0.026382446, 0.0052490234, -0.054229736, 0.008125305, 0.013175964, 0.10784912, 0.019821167, 0.012390137, -0.07397461, 0.009346008, -0.02973938, -0.007472992, 0.022445679, -0.012054443, -0.037750244, -0.018051147, 0.037078857, -0.0027217865, -0.0015993118, -0.033294678, 0.012870789, -0.014167786, 0.0018558502, -0.03250122, 0.0234375, -0.014419556, 0.035369873, 0.019058228, 0.026519775, 0.0066604614, -0.089782715, 0.007926941, 0.00982666, 0.017974854, -0.028808594, 0.00166893, 0.001124382, -0.008972168, 0.012863159, 0.011924744, 0.0046653748, 0.019622803, -0.0009188652, 0.037994385, 0.016845703, -0.0005683899, 0.021408081, 0.0036735535, 0.010467529, -0.02029419, -0.02293396, -0.06451416, 0.01876831, -0.008857727, -0.014076233, -0.020645142, -0.025863647, -0.014511108, -0.03125, -0.119140625, -0.016662598, 0.13244629, -0.0109939575, -0.0115737915, -0.056243896, 0.0519104, 0.013435364, 0.03741455, -0.0016374588, -0.040374756, -0.001824379, -0.029663086, -0.018539429, -0.029968262, -0.014923096, -0.016601562, -0.037597656, 0.019226074, 0.028259277, 0.01637268, -0.02168274, 0.05154419, -0.0155181885, 0.04663086, -0.08074951, 0.022277832, -0.011520386, -0.02494812, -0.04244995, 0.004802704, 0.028503418, 0.024353027, 0.012718201, 0.05355835, -0.038848877, 0.020614624, -0.022094727, 0.037963867, 0.025680542, -0.0027828217, -0.02670288, 0.020980835, 0.03439331, 0.0038604736, 0.0010166168, -0.0029354095, -0.0044517517, -0.024490356, -0.027313232, -0.027664185, 0.018127441, 0.025970459, 0.012283325, 3.8981438e-05, -0.0082473755, 0.034454346, -0.06463623, -0.046905518, -0.0015039444, -0.06427002, -0.024169922, -0.026870728, -7.891655e-05, -0.015296936, -0.05596924, -0.025421143, 0.0055007935, 0.00522995, 0.027664185, 0.0032424927, 0.026031494, 0.020050049, -0.041412354, -0.00894165, 0.024978638, 0.024658203, 0.028808594, -0.005279541, 0.006702423, -0.0154418945, 0.03125, 0.022476196, 0.058563232, -0.024612427, -0.03869629, 0.02746582, -0.03451538, 0.006351471, -0.024536133, -0.048065186, -0.02229309, 0.024215698, -0.03729248, 0.021316528, -0.0022029877, -0.0026836395, -0.008865356, -0.017868042, 0.034606934, -0.009666443, -0.02381897, -0.02003479, -0.0045280457, 0.01953125, -0.0023174286, -0.0061798096, -0.021636963, -0.0013933182, 0.014266968, 0.0030975342, -0.026046753, 0.039978027, -0.023406982, -0.005420685, 0.018798828, -0.020019531, -0.021697998, 0.051971436, -0.0034503937, -0.022323608, 0.01739502, -0.020431519, 0.011833191, -0.011451721, 0.0013465881, -0.016967773, -0.02355957, 0.019515991, 0.019073486, 0.029159546, 0.027267456, 0.032928467, 0.051635742, 0.021560669, 0.020233154, -0.035217285, -0.01625061, -0.009277344, 0.007041931, 0.0027236938, 0.05493164, 0.0008840561, -0.019073486, 0.01826477, -0.010124207, 0.048217773, 0.0014829636, 0.08703613, -0.030014038, -0.032318115, 0.013130188, 5.9127808e-05, 0.011924744, -0.009590149, -0.007785797, -0.009376526, -0.0017938614, 0.02104187, -0.031433105, 0.033294678, 0.013282776, 0.049560547, 0.022323608, -0.007411957, 0.04373169, -0.0028152466, -0.05303955, -0.013702393, -0.066589355, -0.04989624, -0.00034546852, 0.018554688, 0.05407715, -0.06347656, -0.04788208, 0.0015239716, -0.0066871643, -0.035186768, 0.04071045, -0.01637268, 0.06896973, -0.03729248, 0.04156494, 0.026031494, -0.030761719, 0.0020065308, -0.008766174, 0.016296387, -0.008964539, 0.04055786, -0.02319336, -0.01600647, 0.007041931, 0.058502197, -0.051818848, 0.028640747, 0.04168701, -0.049713135, 0.019622803, 0.020523071, -0.003578186, 0.020858765, 0.036590576, -0.022201538, 0.014793396, 0.05886841, -0.041381836, 0.0010814667, -0.006275177, -0.046813965, 0.037872314, 0.04083252, -0.006679535, -0.025787354, -0.049713135, 0.03540039, 0.00957489, 0.028930664, 0.026611328, -0.024230957, 0.009971619, -0.00019228458, 0.035369873, -0.030715942, -0.028182983, 0.0021781921, 0.004257202, -0.008796692, -0.011566162, -0.0006246567, -0.05026245, -0.005970001, -0.0068359375, -0.020553589, 0.06604004, -0.04837036, 0.012550354, -0.029907227, 0.051208496, 0.03942871, -0.004337311, 0.036315918, 0.047973633, -0.05215454, 0.04888916, 0.010505676, -0.049316406, -0.009674072, 0.022659302, -0.00059843063, 0.010307312, -0.010032654, -0.014266968, -0.05029297, 0.028015137, -0.026412964, -0.0231781, 0.016448975, 0.018157959, 0.014793396, 0.024993896, -0.028808594, 0.01600647, 0.0060043335, -0.025497437, -0.010063171, 0.04611206, -0.04537964, -0.018859863, -0.0043563843, 0.017990112, 0.0058174133, 0.037597656, -0.01826477, -0.00374794, -0.024307251, -0.0013418198, 0.0001116395, -0.04321289, -0.011192322, 0.02406311, -0.0068511963, -0.054870605, -0.043640137, -0.0038433075, 0.010025024, -0.016723633, -0.0020313263, 0.03692627, -0.010375977, -0.014808655, 0.0041160583, 0.05090332, -0.009925842, -0.04840088, 0.026428223, 0.015975952, 0.023284912, 0.12054443, 0.02267456, 0.029724121, 0.032043457, 0.001581192, 0.0014562607, -0.023880005, -0.0051231384, -0.006706238, 0.01838684, 0.0062561035, 0.025238037, -0.015029907, 0.003189087, 0.040863037, -0.05368042, -0.018722534, -0.051086426, -0.013023376, -0.009864807, 0.021087646, -0.034210205, 0.05621338, 0.037475586, -0.05105591, 0.02935791, 0.028915405, 0.006389618, -0.018493652, 0.051116943, 0.011299133, 0.05529785, 0.033081055, 0.045959473, -0.004211426, -0.07232666, -0.022964478, -0.03692627, -0.008201599, -0.024139404, -0.00969696, -0.03074646, 0.028503418, -0.00043678284, -0.0015773773, -0.06756592, -0.005958557, -0.043426514, -0.014862061, -0.011001587, -0.009887695, 0.044830322, -0.007369995, 0.07556152, -0.046722412, 0.0031108856, 0.026687622, -0.008003235, 0.039276123, 0.0016775131, -0.0022945404, -0.08502197, 0.02911377, 0.049621582, -0.0053596497, 0.019378662, -0.025878906, -0.03744507, -0.033111572, 0.009262085, 0.025863647, -0.010665894, -0.03289795, -0.042388916, 0.0067329407, 0.023132324, -0.018966675, -0.056030273, -0.005886078, -0.024047852, -0.033477783, 0.006542206, -0.0016050339, 0.018920898, 0.03555298, -0.0262146, 0.0647583, 0.004924774, -0.011054993, -0.03277588, 0.004043579, 0.019104004]\n"
     ]
    }
   ],
   "source": [
    "response = co.embed(\n",
    "    texts=[query],\n",
    "    model=model,\n",
    "    input_type=\"search_query\",\n",
    "    embedding_types=['float']\n",
    ")\n",
    "query_embedding = response.embeddings.float[0]\n",
    "print(\"query_embedding: \", query_embedding)"
   ]
  },
  {
   "cell_type": "markdown",
   "id": "2764f75f-b020-4552-a362-c088dbef7116",
   "metadata": {},
   "source": [
    "Performing Semantic Search Using Cosine Similarity\n",
    "\n",
    "We’ll use cosine similarity to identify chunks most relevant to the query. Run this code in a new cell:\n",
    "\n",
    "This code calculates similarity scores, identifying the top 10 chunks that most closely match the query. The scores and content of these chunks are printed, showing the most relevant sections."
   ]
  },
  {
   "cell_type": "code",
   "execution_count": 27,
   "id": "0a9d4411-317c-4219-8c1b-f260c9060e52",
   "metadata": {},
   "outputs": [
    {
     "name": "stdout",
     "output_type": "stream",
     "text": [
      "similarity scores:  [np.float64(0.6219875948073462), np.float64(0.21998720667926924), np.float64(0.3396590041313462), np.float64(0.4555954948148758), np.float64(0.15750122806654596), np.float64(0.2752094846704467), np.float64(0.2938197166203306), np.float64(0.15325545167078092), np.float64(0.20132181667719123), np.float64(0.11234805595958627), np.float64(0.21581867488546055), np.float64(0.1396626949202155), np.float64(0.24388295611978753), np.float64(0.3140320858386818), np.float64(0.12843673126698063), np.float64(0.18912504457755364), np.float64(0.3371557151760913), np.float64(0.3260076069799601), np.float64(0.3049394291600581), np.float64(0.3776809057658108), np.float64(0.33487191177673775), np.float64(0.2111742342232352), np.float64(0.5488856823898015), np.float64(0.33138073834143594), np.float64(0.2635394712506127), np.float64(0.10834247450939043), np.float64(0.25688155097015447), np.float64(0.2525985301944642), np.float64(0.3191863809879187), np.float64(0.3234387662416202), np.float64(0.4034650721638857), np.float64(0.43906261124487045), np.float64(0.3131634521391669), np.float64(0.2316183200269796), np.float64(0.3299061441480752), np.float64(0.3592921351744466), np.float64(0.26219410151266465), np.float64(0.17760960486834923), np.float64(0.28801613440025137), np.float64(0.11247308548157814), np.float64(0.4397058215677875), np.float64(0.14929268004466356), np.float64(0.3754972882423382), np.float64(0.2505157425042765), np.float64(0.37832805320105173), np.float64(0.4351591124104371), np.float64(0.4132125610688132), np.float64(0.36472765945668034), np.float64(0.35866366185905363), np.float64(0.23986104713479775), np.float64(0.46882032963622), np.float64(0.23641824486799953), np.float64(0.46303800009697976), np.float64(0.45638118656658594), np.float64(0.26554565834192095), np.float64(0.23616857394366955), np.float64(0.22208546673490687), np.float64(0.17444430592644536), np.float64(0.4626574769023442), np.float64(0.20691266297068764), np.float64(0.2920797566328853), np.float64(0.35466922207148094)]\n",
      "Here are the indices of the top 10 chunks after retrieval:  [ 0 22 50 52 58 53  3 40 31 45]\n",
      "Here are the top 10 chunks after retrieval: \n",
      "== The Wild Robot is a 2024 American animated science fiction film produced by DreamWorks Animation and distributed by Universal Pictures. Based on the 2016 novel of the same name by Peter Brown, it was written for the screen and directed by Chris Sanders and features the voices of Lupita Nyong'o, Pedro Pascal, Kit Connor, Bill Nighy, Stephanie Hsu, Mark Hamill, Catherine O'Hara, Matt Berry, and Ving Rhames. The film follows Roz (Nyong'o), a service robot shipwrecked on an uninhabited island who must adapt to\n",
      "== On September 28, 2023, DreamWorks Animation announced an animated film adaptation of the book series The Wild Robot by Peter Brown, with Chris Sanders set to write and direct, Jeff Hermann set to produce, and Sanders' longtime creative collaborator Dean DeBlois set to serve as executive producer. Other crew members were announced, including production designer Raymond Zibach, editor Mary Blee, and head of story Heidi Jo Gilbert.\n",
      "== The Wild Robot received positive reviews. On the review aggregator website Rotten Tomatoes, 97% of 241 critics' reviews are positive, with an average rating of 8.4/10. The website's consensus reads: \"A simple tale told with great sophistication, The Wild Robot is wondrous entertainment that dazzles the eye while filling your heart to the brim.\" It is DreamWorks Animation's second highest-rated film on the site, behind Sanders' How to Train Your Dragon (2010). Metacritic, which uses a weighted average,\n",
      "== Natalia Winkelman of The New York Times called the film \"a dazzling triumph of animation\" and wrote \"this is a work that cares most about two things: big feelings and great beauty.\" Pete Hammond of Deadline Hollywood said, \"If Spielberg's E.T. had been an animated film instead, it might resemble what writer-director Chris Sanders has created here. However, Wild Robot weaves its own magic and for that we can all cry tears of joy.\" Adrian Horton, writing for The Guardian said: \"Clever, heartfelt and\n",
      "== The Wild Robot incorporates environmental themes throughout its narrative, including a reference to climate change in a sequence depicting a futuristic San Francisco with a partially submerged Golden Gate Bridge. DreamWorks Animation developed the film in collaboration with both Universal's GreenerLight Program and the Natural Resources Defense Council's Rewrite the Future initiative, with environmental experts consulting on the ecological elements and a sustainability-focused PSA featuring Lupita Nyong'o.\n",
      "== for The Guardian said: \"Clever, heartfelt and frequently stunning, The Wild Robot offers the type of all-ages-welcome animated entertainment that will delight kids and leave a lump in one's throat.\" Robbie Collin of The Daily Telegraph gave the film a five out of five scoring, saying, \"DreamWorks was founded 30 years ago this month, and this well-timed anniversary release is their richest, most moving film since 1998's reputation-making The Prince of Egypt.\" In his review for Vulture, Bilge Ebiri praised\n",
      "== The Wild Robot premiered at the 49th Toronto International Film Festival on September 8, 2024, and was released in the United States on September 27. The film was a critical and commercial success, grossing $325 million worldwide on a production budget of $78 million and becoming the sixth-highest grossing animated film of 2024. It was nominated for Best Animated Feature Film at the 97th Academy Awards, the 82nd Golden Globe Awards and 78th British Academy Film Awards, among others. A sequel is in\n",
      "== == Release ==\n",
      "The Wild Robot had its world premiere as the opening front runner of the Toronto International Film Festival Grand Opening celebration on September 8, 2024. It was initially scheduled for release on September 20, but was postponed to September 27. This shift was reportedly made to avoid competition with Transformers One.\n",
      "On December 29, 2024, it was announced that The Wild Robot would be re-released in theaters in the United States on January 17, 2025.\n",
      "== === Animation and design ===\n",
      "The Wild Robot would be the final film to be animated entirely in-house at DreamWorks, as Cartoon Brew reported on October 6, 2023, that the studio would be shifting away from producing films in-house in their Glendale campus to relying more heavily on outside studios after 2024. Additional character rigging was done by French studio Stim Studio.\n",
      "== === Box office ===\n",
      "As of January 25, 2025, The Wild Robot has grossed $143.9 million in the United States and Canada, and $181.1 million in other territories for a worldwide total of $325 million.\n"
     ]
    }
   ],
   "source": [
    "def cosine_similarity(a, b):\n",
    "    return np.dot(a, b) / (np.linalg.norm(a) * np.linalg.norm(b))\n",
    "\n",
    "similarities = [cosine_similarity(query_embedding, chunk) for chunk in embeddings]\n",
    "print(\"similarity scores: \", similarities)\n",
    "\n",
    "sorted_indices = np.argsort(similarities)[::-1]\n",
    "top_indices = sorted_indices[:10]\n",
    "print(\"Here are the indices of the top 10 chunks after retrieval: \", top_indices)\n",
    "\n",
    "top_chunks_after_retrieval = [chunks[i] for i in top_indices]\n",
    "print(\"Here are the top 10 chunks after retrieval: \")\n",
    "for t in top_chunks_after_retrieval:\n",
    "    print(\"== \" + t)"
   ]
  },
  {
   "cell_type": "markdown",
   "id": "c4ddee4c",
   "metadata": {},
   "source": [
    "# Create Augmented Prompt for LLM using Query +  top 3 ranked search results"
   ]
  },
  {
   "cell_type": "markdown",
   "id": "516aec77-c354-46ab-a22e-cb9df71dbf3c",
   "metadata": {},
   "source": [
    "Finally, we’ll create an augmented prompt to send to the language model. Enter this code in a new cell\n",
    "\n",
    "This block prepares a prompt combining the query with relevant chunks. The \"preamble\" provides context, and \"documents\" include the top three retrieved chunks. When passed to co.chat(), the model uses these to generate a detailed response, displayed as the final answer.\n"
   ]
  },
  {
   "cell_type": "code",
   "execution_count": 28,
   "id": "d977c491",
   "metadata": {},
   "outputs": [],
   "source": [
    "preamble = \"\"\"\n",
    "## Task &amp; Context\n",
    "You help people answer their questions and other requests interactively. You will be asked a very wide array of requests on all kinds of topics. You will be equipped with a wide range of search engines or similar tools to help you, which you use to research your answer. You should focus on serving the user's needs as best you can, which will be wide-ranging.\n",
    "\n",
    "## Style Guide\n",
    "Unless the user asks for a different style of answer, you should answer in full sentences, using proper grammar and spelling.\n",
    "\"\"\""
   ]
  },
  {
   "cell_type": "code",
   "execution_count": 31,
   "id": "6a7401b5",
   "metadata": {},
   "outputs": [
    {
     "name": "stdout",
     "output_type": "stream",
     "text": [
      "Final answer:\n",
      "The Wild Robot is an upcoming American animated science fiction film directed and written by Chris Sanders. Based on the 2016 novel of the same name by Peter Brown, the movie has a stellar cast of voices, including:\n",
      "- Lupita Nyong'o as Roz\n",
      "- Pedro Pascal\n",
      "- Kit Connor\n",
      "- Bill Nighy\n",
      "- Stephanie Hsu\n",
      "- Mark Hamill\n",
      "- Catherine O'Hara\n",
      "- Matt Berry\n",
      "- Ving Rhames\n"
     ]
    }
   ],
   "source": [
    "documents = [\n",
    "    {\"title\": \"chunk 0\", \"snippet\": top_chunks_after_retrieval[0]},\n",
    "    {\"title\": \"chunk 1\", \"snippet\": top_chunks_after_retrieval[1]},\n",
    "    {\"title\": \"chunk 2\", \"snippet\": top_chunks_after_retrieval[2]},\n",
    "]\n",
    "\n",
    "response = co.chat(\n",
    "  message=query,\n",
    "  documents=documents,\n",
    "  preamble=preamble,\n",
    "  model=\"command-r\",\n",
    "  temperature=0.3\n",
    ")\n",
    "\n",
    "print(\"Final answer:\")\n",
    "print(response.text)\n"
   ]
  },
  {
   "cell_type": "code",
   "execution_count": 32,
   "id": "fda65bab-2f0a-4fcd-8369-22f16bf49eef",
   "metadata": {},
   "outputs": [
    {
     "name": "stdout",
     "output_type": "stream",
     "text": [
      "Collecting graphviz\n",
      "  Downloading graphviz-0.20.3-py3-none-any.whl.metadata (12 kB)\n",
      "Downloading graphviz-0.20.3-py3-none-any.whl (47 kB)\n",
      "Installing collected packages: graphviz\n",
      "Successfully installed graphviz-0.20.3\n",
      "Note: you may need to restart the kernel to use updated packages.\n"
     ]
    }
   ],
   "source": [
    "!pip install graphviz\n"
   ]
  },
  {
   "cell_type": "code",
   "execution_count": 2,
   "id": "c00b7c96-9bcf-4456-87a6-dee483fc589f",
   "metadata": {},
   "outputs": [],
   "source": [
    "import os\n",
    "os.environ[\"PATH\"] += os.pathsep + \"/usr/local/bin\"  # Adjust if needed"
   ]
  },
  {
   "cell_type": "code",
   "execution_count": null,
   "id": "d7d846f7-f15d-4fc3-83e1-5eb9d08cfbfe",
   "metadata": {},
   "outputs": [],
   "source": []
  }
 ],
 "metadata": {
  "kernelspec": {
   "display_name": "Python 3 (ipykernel)",
   "language": "python",
   "name": "python3"
  },
  "language_info": {
   "codemirror_mode": {
    "name": "ipython",
    "version": 3
   },
   "file_extension": ".py",
   "mimetype": "text/x-python",
   "name": "python",
   "nbconvert_exporter": "python",
   "pygments_lexer": "ipython3",
   "version": "3.13.1"
  }
 },
 "nbformat": 4,
 "nbformat_minor": 5
}
